{
 "cells": [
  {
   "cell_type": "code",
   "execution_count": 1,
   "id": "62bf5374",
   "metadata": {},
   "outputs": [
    {
     "name": "stdout",
     "output_type": "stream",
     "text": [
      "Requirement already satisfied: sqlalchemy in c:\\users\\usuario\\anaconda3\\lib\\site-packages (2.0.34)\n",
      "Requirement already satisfied: pyodbc in c:\\users\\usuario\\anaconda3\\lib\\site-packages (5.1.0)\n",
      "Requirement already satisfied: typing-extensions>=4.6.0 in c:\\users\\usuario\\anaconda3\\lib\\site-packages (from sqlalchemy) (4.11.0)\n",
      "Requirement already satisfied: greenlet!=0.4.17 in c:\\users\\usuario\\anaconda3\\lib\\site-packages (from sqlalchemy) (3.0.1)\n",
      "Requirement already satisfied: scikit-learn in c:\\users\\usuario\\anaconda3\\lib\\site-packages (1.5.1)\n",
      "Requirement already satisfied: numpy>=1.19.5 in c:\\users\\usuario\\anaconda3\\lib\\site-packages (from scikit-learn) (1.26.4)\n",
      "Requirement already satisfied: scipy>=1.6.0 in c:\\users\\usuario\\anaconda3\\lib\\site-packages (from scikit-learn) (1.13.1)\n",
      "Requirement already satisfied: joblib>=1.2.0 in c:\\users\\usuario\\anaconda3\\lib\\site-packages (from scikit-learn) (1.4.2)\n",
      "Requirement already satisfied: threadpoolctl>=3.1.0 in c:\\users\\usuario\\anaconda3\\lib\\site-packages (from scikit-learn) (3.5.0)\n"
     ]
    }
   ],
   "source": [
    "import pandas as pd\n",
    "!pip install sqlalchemy pyodbc\n",
    "from sqlalchemy import create_engine\n",
    "import seaborn as sns\n",
    "import matplotlib.pyplot as plt\n",
    "!pip install scikit-learn\n",
    "import os\n",
    "import numpy as np\n"
   ]
  },
  {
   "cell_type": "code",
   "execution_count": 2,
   "id": "59fc1fa5",
   "metadata": {},
   "outputs": [],
   "source": [
    "engine = create_engine('mssql+pyodbc://localhost:1433/DB_Motores?driver=ODBC+Driver+17+for+SQL+Server')\n",
    "\n",
    "query = \"SELECT TOP 10 * FROM dbo.Motor_1\"\n"
   ]
  },
  {
   "cell_type": "code",
   "execution_count": 3,
   "id": "9af574e6",
   "metadata": {},
   "outputs": [
    {
     "data": {
      "text/plain": [
       "array(['Motor_1', 'Motor_2', 'Motor_3', 'Motor_4', 'Motor_5'],\n",
       "      dtype=object)"
      ]
     },
     "execution_count": 3,
     "metadata": {},
     "output_type": "execute_result"
    }
   ],
   "source": [
    "ruta_archivo = r'C:\\Users\\Usuario\\OneDrive\\ESPAÑA\\INTELIGENCIA DE NEGOCIOS   VIU\\MASTER\\ASIGNATURAS\\9 TENDENCIAS DE AUTOMATIZACION EN EL ANALISIS ESTADISTICO jesus cigales canga clase 9\\ACTIVIDAD 1\\Actividad1_datos_mantenimiento_predictivo.xlsx'\n",
    "motores = pd.read_excel(ruta_archivo, sheet_name=None)\n",
    "for nombre_hoja, df in motores.items():\n",
    "    df[\"Motor\"] = nombre_hoja\n",
    "    motores[nombre_hoja] = df\n",
    "df_todos = pd.concat(motores.values(), ignore_index=True)\n",
    "df_todos.head()\n",
    "df_todos.shape         \n",
    "df_todos['Motor'].unique()\n"
   ]
  },
  {
   "cell_type": "code",
   "execution_count": 4,
   "id": "30b30d9b",
   "metadata": {},
   "outputs": [
    {
     "name": "stdout",
     "output_type": "stream",
     "text": [
      "<class 'pandas.core.frame.DataFrame'>\n",
      "RangeIndex: 2500 entries, 0 to 2499\n",
      "Data columns (total 9 columns):\n",
      " #   Column                Non-Null Count  Dtype         \n",
      "---  ------                --------------  -----         \n",
      " 0   ID_Medicion           2500 non-null   int64         \n",
      " 1   Fecha_Medicion        2500 non-null   datetime64[ns]\n",
      " 2   Temperatura_C         2500 non-null   float64       \n",
      " 3   Vibracion_mms         2500 non-null   float64       \n",
      " 4   Presion_bar           2500 non-null   float64       \n",
      " 5   Humedad_%             2500 non-null   float64       \n",
      " 6   Horas_funcionamiento  2500 non-null   int64         \n",
      " 7   Fallo_detectado       2500 non-null   int64         \n",
      " 8   Motor                 2500 non-null   object        \n",
      "dtypes: datetime64[ns](1), float64(4), int64(3), object(1)\n",
      "memory usage: 175.9+ KB\n"
     ]
    }
   ],
   "source": [
    "df_todos.info()"
   ]
  },
  {
   "cell_type": "code",
   "execution_count": 5,
   "id": "059876f5",
   "metadata": {},
   "outputs": [
    {
     "data": {
      "text/html": [
       "<div>\n",
       "<style scoped>\n",
       "    .dataframe tbody tr th:only-of-type {\n",
       "        vertical-align: middle;\n",
       "    }\n",
       "\n",
       "    .dataframe tbody tr th {\n",
       "        vertical-align: top;\n",
       "    }\n",
       "\n",
       "    .dataframe thead th {\n",
       "        text-align: right;\n",
       "    }\n",
       "</style>\n",
       "<table border=\"1\" class=\"dataframe\">\n",
       "  <thead>\n",
       "    <tr style=\"text-align: right;\">\n",
       "      <th></th>\n",
       "      <th>ID_Medicion</th>\n",
       "      <th>Fecha_Medicion</th>\n",
       "      <th>Temperatura_C</th>\n",
       "      <th>Vibracion_mms</th>\n",
       "      <th>Presion_bar</th>\n",
       "      <th>Humedad_%</th>\n",
       "      <th>Horas_funcionamiento</th>\n",
       "      <th>Fallo_detectado</th>\n",
       "      <th>Motor</th>\n",
       "    </tr>\n",
       "  </thead>\n",
       "  <tbody>\n",
       "    <tr>\n",
       "      <th>0</th>\n",
       "      <td>1</td>\n",
       "      <td>2023-01-01 02:00:00</td>\n",
       "      <td>67.48</td>\n",
       "      <td>1.96</td>\n",
       "      <td>5.35</td>\n",
       "      <td>58.63</td>\n",
       "      <td>43</td>\n",
       "      <td>0</td>\n",
       "      <td>Motor_1</td>\n",
       "    </tr>\n",
       "    <tr>\n",
       "      <th>1</th>\n",
       "      <td>2</td>\n",
       "      <td>2023-01-01 05:00:00</td>\n",
       "      <td>67.49</td>\n",
       "      <td>1.96</td>\n",
       "      <td>5.28</td>\n",
       "      <td>58.16</td>\n",
       "      <td>71</td>\n",
       "      <td>0</td>\n",
       "      <td>Motor_1</td>\n",
       "    </tr>\n",
       "    <tr>\n",
       "      <th>2</th>\n",
       "      <td>3</td>\n",
       "      <td>2023-01-01 06:00:00</td>\n",
       "      <td>67.52</td>\n",
       "      <td>1.96</td>\n",
       "      <td>5.15</td>\n",
       "      <td>57.05</td>\n",
       "      <td>96</td>\n",
       "      <td>0</td>\n",
       "      <td>Motor_1</td>\n",
       "    </tr>\n",
       "    <tr>\n",
       "      <th>3</th>\n",
       "      <td>4</td>\n",
       "      <td>2023-01-01 10:00:00</td>\n",
       "      <td>67.57</td>\n",
       "      <td>1.96</td>\n",
       "      <td>5.35</td>\n",
       "      <td>56.85</td>\n",
       "      <td>142</td>\n",
       "      <td>0</td>\n",
       "      <td>Motor_1</td>\n",
       "    </tr>\n",
       "    <tr>\n",
       "      <th>4</th>\n",
       "      <td>5</td>\n",
       "      <td>2023-01-01 14:00:00</td>\n",
       "      <td>67.57</td>\n",
       "      <td>1.96</td>\n",
       "      <td>5.21</td>\n",
       "      <td>57.99</td>\n",
       "      <td>190</td>\n",
       "      <td>0</td>\n",
       "      <td>Motor_1</td>\n",
       "    </tr>\n",
       "  </tbody>\n",
       "</table>\n",
       "</div>"
      ],
      "text/plain": [
       "   ID_Medicion      Fecha_Medicion  Temperatura_C  Vibracion_mms  Presion_bar  \\\n",
       "0            1 2023-01-01 02:00:00          67.48           1.96         5.35   \n",
       "1            2 2023-01-01 05:00:00          67.49           1.96         5.28   \n",
       "2            3 2023-01-01 06:00:00          67.52           1.96         5.15   \n",
       "3            4 2023-01-01 10:00:00          67.57           1.96         5.35   \n",
       "4            5 2023-01-01 14:00:00          67.57           1.96         5.21   \n",
       "\n",
       "   Humedad_%  Horas_funcionamiento  Fallo_detectado    Motor  \n",
       "0      58.63                    43                0  Motor_1  \n",
       "1      58.16                    71                0  Motor_1  \n",
       "2      57.05                    96                0  Motor_1  \n",
       "3      56.85                   142                0  Motor_1  \n",
       "4      57.99                   190                0  Motor_1  "
      ]
     },
     "execution_count": 5,
     "metadata": {},
     "output_type": "execute_result"
    }
   ],
   "source": [
    "df_todos.head()"
   ]
  },
  {
   "cell_type": "code",
   "execution_count": 6,
   "id": "7d980066",
   "metadata": {},
   "outputs": [
    {
     "name": "stdout",
     "output_type": "stream",
     "text": [
      "Número de registros: 2500\n",
      "Número de columnas: 9\n"
     ]
    }
   ],
   "source": [
    "print(f\"Número de registros: {df_todos.shape[0]}\")\n",
    "print(f\"Número de columnas: {df_todos.shape[1]}\")"
   ]
  },
  {
   "cell_type": "code",
   "execution_count": 7,
   "id": "1d93ec5a",
   "metadata": {},
   "outputs": [
    {
     "data": {
      "text/plain": [
       "ID_Medicion             0\n",
       "Fecha_Medicion          0\n",
       "Temperatura_C           0\n",
       "Vibracion_mms           0\n",
       "Presion_bar             0\n",
       "Humedad_%               0\n",
       "Horas_funcionamiento    0\n",
       "Fallo_detectado         0\n",
       "Motor                   0\n",
       "dtype: int64"
      ]
     },
     "execution_count": 7,
     "metadata": {},
     "output_type": "execute_result"
    }
   ],
   "source": [
    "df_todos.isnull().sum()"
   ]
  },
  {
   "cell_type": "code",
   "execution_count": 8,
   "id": "21d5a0b8",
   "metadata": {},
   "outputs": [
    {
     "data": {
      "text/plain": [
       "Fallo_detectado\n",
       "0    2475\n",
       "1      25\n",
       "Name: count, dtype: int64"
      ]
     },
     "execution_count": 8,
     "metadata": {},
     "output_type": "execute_result"
    }
   ],
   "source": [
    "df_todos['Fallo_detectado'].value_counts()"
   ]
  },
  {
   "cell_type": "code",
   "execution_count": 9,
   "id": "d62ad974",
   "metadata": {},
   "outputs": [
    {
     "data": {
      "text/plain": [
       "array(['Motor_1', 'Motor_2', 'Motor_3', 'Motor_4', 'Motor_5'],\n",
       "      dtype=object)"
      ]
     },
     "execution_count": 9,
     "metadata": {},
     "output_type": "execute_result"
    }
   ],
   "source": [
    "df_todos['Motor'].unique()"
   ]
  },
  {
   "cell_type": "code",
   "execution_count": 10,
   "id": "d3ca8421",
   "metadata": {},
   "outputs": [
    {
     "name": "stdout",
     "output_type": "stream",
     "text": [
      "Datos cargados correctamente en SQL Server.\n"
     ]
    }
   ],
   "source": [
    "ruta_archivo = r\"C:\\Users\\Usuario\\OneDrive\\ESPAÑA\\INTELIGENCIA DE NEGOCIOS   VIU\\MASTER\\ASIGNATURAS\\9 TENDENCIAS DE AUTOMATIZACION EN EL ANALISIS ESTADISTICO jesus cigales canga clase 9\\ACTIVIDAD 1\\Actividad1_datos_mantenimiento_predictivo.xlsx\"\n",
    "motores = pd.read_excel(ruta_archivo, sheet_name=None)\n",
    "for nombre_hoja, df in motores.items():\n",
    "    df[\"Motor\"] = nombre_hoja\n",
    "motores_concatenados = pd.concat(motores.values(), ignore_index=True)\n",
    "engine = create_engine(\"mssql+pyodbc://localhost/DB_Motores?driver=ODBC+Driver+17+for+SQL+Server&trusted_connection=yes\")\n",
    "motores_concatenados.to_sql(\"datos_mantenimiento\", con=engine, if_exists=\"replace\", index=False)\n",
    "print(\"Datos cargados correctamente en SQL Server.\")"
   ]
  },
  {
   "cell_type": "code",
   "execution_count": 11,
   "id": "9e9b202b",
   "metadata": {},
   "outputs": [
    {
     "name": "stdout",
     "output_type": "stream",
     "text": [
      "   ID_Medicion      Fecha_Medicion  Temperatura_C  Vibracion_mms  Presion_bar  \\\n",
      "0            1 2023-01-01 02:00:00          67.48           1.96         5.35   \n",
      "1            2 2023-01-01 05:00:00          67.49           1.96         5.28   \n",
      "2            3 2023-01-01 06:00:00          67.52           1.96         5.15   \n",
      "3            4 2023-01-01 10:00:00          67.57           1.96         5.35   \n",
      "4            5 2023-01-01 14:00:00          67.57           1.96         5.21   \n",
      "5            6 2023-01-01 16:00:00          67.63           1.97         5.26   \n",
      "6            7 2023-01-01 20:00:00          67.57           1.97         5.44   \n",
      "7            8 2023-01-01 21:00:00          67.59           1.97         5.34   \n",
      "8            9 2023-01-02 01:00:00          67.59           1.98         5.35   \n",
      "9           10 2023-01-02 05:00:00          67.58           1.97         5.18   \n",
      "\n",
      "   Humedad_%  Horas_funcionamiento  Fallo_detectado    Motor  \n",
      "0      58.63                    43                0  Motor_1  \n",
      "1      58.16                    71                0  Motor_1  \n",
      "2      57.05                    96                0  Motor_1  \n",
      "3      56.85                   142                0  Motor_1  \n",
      "4      57.99                   190                0  Motor_1  \n",
      "5      58.56                   233                0  Motor_1  \n",
      "6      57.99                   239                0  Motor_1  \n",
      "7      55.66                   278                0  Motor_1  \n",
      "8      58.50                   324                0  Motor_1  \n",
      "9      56.90                   343                0  Motor_1  \n"
     ]
    }
   ],
   "source": [
    "query = \"SELECT TOP 10 * FROM datos_mantenimiento\"\n",
    "df = pd.read_sql(query, con=engine)\n",
    "print(df)"
   ]
  },
  {
   "cell_type": "code",
   "execution_count": 12,
   "id": "fc8a9cc4",
   "metadata": {},
   "outputs": [],
   "source": [
    "ruta_archivo_excel = r\"C:\\Users\\Usuario\\OneDrive\\ESPAÑA\\INTELIGENCIA DE NEGOCIOS   VIU\\MASTER\\ASIGNATURAS\\9 TENDENCIAS DE AUTOMATIZACION EN EL ANALISIS ESTADISTICO jesus cigales canga clase 9\\ACTIVIDAD 1\\Actividad1_datos_mantenimiento_predictivo.xlsx\"\n",
    "motores = pd.read_excel(ruta_archivo_excel, sheet_name=None)\n",
    "for nombre_hoja, df in motores.items():\n",
    "    ruta_csv = fr\"C:\\Users\\Usuario\\OneDrive\\ESPAÑA\\INTELIGENCIA DE NEGOCIOS   VIU\\MASTER\\ASIGNATURAS\\9 TENDENCIAS DE AUTOMATIZACION EN EL ANALISIS ESTADISTICO jesus cigales canga clase 9\\ACTIVIDAD 1\\Actividad1_datos_mantenimiento_predictivo_{nombre_hoja}.csv\"\n",
    "    df.to_csv(ruta_csv, index=False)\n",
    "for nombre_hoja, df in motores.items():\n",
    "    df['Motor'] = nombre_hoja\n",
    "df_concatenado = pd.concat(motores.values(), ignore_index=True)\n",
    "ruta_csv_unico = r\"C:\\Users\\Usuario\\OneDrive\\ESPAÑA\\INTELIGENCIA DE NEGOCIOS   VIU\\MASTER\\ASIGNATURAS\\9 TENDENCIAS DE AUTOMATIZACION EN EL ANALISIS ESTADISTICO jesus cigales canga clase 9\\ACTIVIDAD 1\\Actividad1_datos_mantenimiento_predictivo.csv\"\n",
    "df_concatenado.to_csv(ruta_csv_unico, index=False)"
   ]
  },
  {
   "cell_type": "code",
   "execution_count": 13,
   "id": "b902912c",
   "metadata": {},
   "outputs": [
    {
     "name": "stdout",
     "output_type": "stream",
     "text": [
      "      ID_Medicion       Fecha_Medicion  Temperatura_C  Vibracion_mms  Presion_bar  Humedad_%  Horas_funcionamiento  Fallo_detectado    Motor\n",
      "0               1  2023-01-01 02:00:00          67.48           1.96         5.35      58.63                    43                0  Motor_1\n",
      "1               2  2023-01-01 05:00:00          67.49           1.96         5.28      58.16                    71                0  Motor_1\n",
      "2               3  2023-01-01 06:00:00          67.52           1.96         5.15      57.05                    96                0  Motor_1\n",
      "3               4  2023-01-01 10:00:00          67.57           1.96         5.35      56.85                   142                0  Motor_1\n",
      "4               5  2023-01-01 14:00:00          67.57           1.96         5.21      57.99                   190                0  Motor_1\n",
      "...           ...                  ...            ...            ...          ...        ...                   ...              ...      ...\n",
      "2495          496  2023-03-04 04:00:00          71.80           2.55         5.24      48.91                 13599                0  Motor_5\n",
      "2496          497  2023-03-04 08:00:00          70.13           2.32         4.93      51.82                 13632                0  Motor_5\n",
      "2497          498  2023-03-04 11:00:00          69.80           2.04         5.32      50.76                 13638                0  Motor_5\n",
      "2498          499  2023-03-04 15:00:00          71.65           2.68         5.16      49.96                 13673                0  Motor_5\n",
      "2499          500  2023-03-04 16:00:00          85.00           4.00         5.20      48.56                 13682                1  Motor_5\n",
      "\n",
      "[2500 rows x 9 columns]\n"
     ]
    }
   ],
   "source": [
    "ruta_csv = r\"C:\\Users\\Usuario\\OneDrive\\ESPAÑA\\INTELIGENCIA DE NEGOCIOS   VIU\\MASTER\\ASIGNATURAS\\9 TENDENCIAS DE AUTOMATIZACION EN EL ANALISIS ESTADISTICO jesus cigales canga clase 9\\ACTIVIDAD 1\\Actividad1_datos_mantenimiento_predictivo.csv\"\n",
    "\n",
    "motores_df = pd.read_csv(ruta_csv)\n",
    "pd.set_option('display.max_columns', None)  \n",
    "pd.set_option('display.width', 1000)        \n",
    "\n",
    "print(motores_df)"
   ]
  },
  {
   "cell_type": "markdown",
   "id": "f7f195e7",
   "metadata": {},
   "source": [
    "EJERCICIO 2 "
   ]
  },
  {
   "cell_type": "code",
   "execution_count": 14,
   "id": "662e7e4a",
   "metadata": {},
   "outputs": [
    {
     "data": {
      "text/plain": [
       "ID_Medicion             0\n",
       "Fecha_Medicion          0\n",
       "Temperatura_C           0\n",
       "Vibracion_mms           0\n",
       "Presion_bar             0\n",
       "Humedad_%               0\n",
       "Horas_funcionamiento    0\n",
       "Fallo_detectado         0\n",
       "Motor                   0\n",
       "dtype: int64"
      ]
     },
     "execution_count": 14,
     "metadata": {},
     "output_type": "execute_result"
    }
   ],
   "source": [
    "df_todos.isnull().sum()"
   ]
  },
  {
   "cell_type": "markdown",
   "id": "6dfe4cda",
   "metadata": {},
   "source": [
    "Esto nos muestra que en ninguna columna hay valores nulos. \n",
    "No hay registros incompletos.\n",
    "No hace falta eliminar filas por datos faltantes."
   ]
  },
  {
   "cell_type": "code",
   "execution_count": 19,
   "id": "e094ad83",
   "metadata": {},
   "outputs": [],
   "source": [
    "variables_numericas = ['Temperatura_C', 'Vibracion_mms', 'Presion_bar', 'Humedad_%', 'Horas_funcionamiento']\n"
   ]
  },
  {
   "cell_type": "code",
   "execution_count": 20,
   "id": "af335718",
   "metadata": {},
   "outputs": [],
   "source": [
    "def eliminar_outliers_iqr(df, columnas):\n",
    "    df_filtrado = df.copy()\n",
    "    for col in columnas:\n",
    "        Q1 = df_filtrado[col].quantile(0.25)\n",
    "        Q3 = df_filtrado[col].quantile(0.75)\n",
    "        IQR = Q3 - Q1\n",
    "        limite_inferior = Q1 - 1.5 * IQR\n",
    "        limite_superior = Q3 + 1.5 * IQR\n",
    "        df_filtrado = df_filtrado[(df_filtrado[col] >= limite_inferior) & (df_filtrado[col] <= limite_superior)]\n",
    "    return df_filtrado\n",
    "\n",
    "variables_numericas = ['Temperatura_C', 'Vibracion_mms', 'Presion_bar', 'Humedad_%', 'Horas_funcionamiento']\n",
    "\n",
    "df_sin_outliers = eliminar_outliers_iqr(df_todos, variables_numericas)\n"
   ]
  },
  {
   "cell_type": "code",
   "execution_count": 21,
   "id": "56712c88",
   "metadata": {},
   "outputs": [
    {
     "name": "stdout",
     "output_type": "stream",
     "text": [
      "Tamaño original (antes de eliminar outliers): (2500, 9)\n",
      "Tamaño limpio (sin outliers): (2361, 9)\n",
      "Total de registros eliminados por outliers: 139\n"
     ]
    }
   ],
   "source": [
    "print(\"Tamaño original (antes de eliminar outliers):\", df_todos.shape)\n",
    "print(\"Tamaño limpio (sin outliers):\", df_sin_outliers.shape)\n",
    "\n",
    "filas_eliminadas = df_todos.shape[0] - df_sin_outliers.shape[0]\n",
    "print(\"Total de registros eliminados por outliers:\", filas_eliminadas)\n"
   ]
  },
  {
   "cell_type": "markdown",
   "id": "42722ee7",
   "metadata": {},
   "source": [
    "Se eliminaron 139 registros (5,6% del total) por contener valores atípicos en alguna variable numérica, utilizando el método IQR. El dataset resultante (df_sin_outliers) contiene 2.361 registros completos, limpios, listos para escalar y modelar."
   ]
  },
  {
   "cell_type": "markdown",
   "id": "9aa52c93",
   "metadata": {},
   "source": [
    "Normalizar o estandarizar variables"
   ]
  },
  {
   "cell_type": "markdown",
   "id": "c1405523",
   "metadata": {},
   "source": [
    "Estandarización (media = 0, desviación = 1)"
   ]
  },
  {
   "cell_type": "code",
   "execution_count": 22,
   "id": "2f05b3fb",
   "metadata": {},
   "outputs": [],
   "source": [
    "from sklearn.preprocessing import StandardScaler\n",
    "\n",
    "escalador = StandardScaler()\n",
    "df_escalado = df_sin_outliers.copy()\n",
    "df_escalado[variables_numericas] = escalador.fit_transform(df_sin_outliers[variables_numericas])"
   ]
  },
  {
   "cell_type": "code",
   "execution_count": 23,
   "id": "5ac94e6f",
   "metadata": {},
   "outputs": [],
   "source": [
    "df_final = df_escalado.copy()"
   ]
  },
  {
   "cell_type": "markdown",
   "id": "1c4d698b",
   "metadata": {},
   "source": [
    "Se utilizo la estandarizacion debido a los modelos que requiere la actividad, sobre todo, SVM (Support Vector Machine) y regresion logistica que son modelos muy sensibles a la escala de los datos.\n",
    "\n",
    "Ademas de lo anterior, porque se esta utilizando variables que estan en diferentes escalas y al no estandarizar, el modelo le va a dar más importancia a las variables con números más grandes, lo que puede distorsionar los resultados."
   ]
  },
  {
   "cell_type": "markdown",
   "id": "34b609ff",
   "metadata": {},
   "source": [
    "EJERCICIO 3 \"Análisis exploratorio de datos (EDA)\""
   ]
  },
  {
   "cell_type": "markdown",
   "id": "ecc3ea5a",
   "metadata": {},
   "source": [
    "VISUALIZACION DE TENDENCIAS GENERALES\n",
    "Relacion entre la temperatura y la probabilidad de fallo"
   ]
  },
  {
   "cell_type": "code",
   "execution_count": 24,
   "id": "6e1b4b88",
   "metadata": {},
   "outputs": [
    {
     "data": {
      "image/png": "[encoded data removed]",
      "text/plain": [
       "<Figure size 800x500 with 1 Axes>"
      ]
     },
     "metadata": {},
     "output_type": "display_data"
    }
   ],
   "source": [
    "plt.figure(figsize=(8, 5))\n",
    "sns.scatterplot(data=df_final, x='Temperatura_C', y='Fallo_detectado', alpha=0.3)\n",
    "sns.regplot(data=df_final, x='Temperatura_C', y='Fallo_detectado', scatter=False, color='red')\n",
    "plt.title('Relación entre Temperatura y Fallo Detectado')\n",
    "plt.xlabel('Temperatura (C)')\n",
    "plt.ylabel('Probabilidad de fallo (Fallo_detectado)')\n",
    "plt.savefig(\"grafico_fallo_temp.png\", bbox_inches='tight', dpi=300)\n",
    "plt.show()\n"
   ]
  },
  {
   "cell_type": "markdown",
   "id": "be79a420",
   "metadata": {},
   "source": [
    "La linea roja asciende, lo que indica que a medida que aumenta la temperatura, también aumenta la probabilidad de que ocurra un fallo.\n",
    "\n",
    "Hay una concentración de puntos azules alrededor del valor 0 (parte inferior), lo que sugiere que en general la mayoría de los motores no presentan fallos, incluso con temperaturas elevadas.\n",
    "\n",
    "Se observan varios puntos azules en la parte superior (Fallo_detectado = 1), especialmente cuando la temperatura es alta. Esto refuerza visualmente la correlación positiva entre temperatura y fallos.\n",
    "\n",
    "La gráfica evidencia una relación positiva entre la temperatura del motor y la probabilidad de que ocurra un fallo. A medida que la temperatura se incrementa, se observa un aumento en la proporción de registros con fallos detectados (línea roja ascendente). Aunque la mayoría de los casos corresponden a motores sin fallos, la presencia de puntos en la parte superior del gráfico en temperaturas elevadas indica que estos niveles térmicos están asociados con un mayor riesgo de fallo. Esto sugiere que la temperatura es un factor relevante a considerar en la predicción de fallos."
   ]
  },
  {
   "cell_type": "markdown",
   "id": "2c1bfa36",
   "metadata": {},
   "source": [
    "CALCULO DE ESTADISTICAS BASICAS (MEDIA, MEDIANA, DESVIACION ESTANDAR )"
   ]
  },
  {
   "cell_type": "code",
   "execution_count": 25,
   "id": "50ddc660",
   "metadata": {},
   "outputs": [],
   "source": [
    "variables_numericas = ['Temperatura_C', 'Vibracion_mms', 'Presion_bar', 'Humedad_%', 'Horas_funcionamiento']\n"
   ]
  },
  {
   "cell_type": "code",
   "execution_count": 26,
   "id": "95b357ff",
   "metadata": {},
   "outputs": [
    {
     "data": {
      "text/html": [
       "<div>\n",
       "<style scoped>\n",
       "    .dataframe tbody tr th:only-of-type {\n",
       "        vertical-align: middle;\n",
       "    }\n",
       "\n",
       "    .dataframe tbody tr th {\n",
       "        vertical-align: top;\n",
       "    }\n",
       "\n",
       "    .dataframe thead th {\n",
       "        text-align: right;\n",
       "    }\n",
       "</style>\n",
       "<table border=\"1\" class=\"dataframe\">\n",
       "  <thead>\n",
       "    <tr style=\"text-align: right;\">\n",
       "      <th></th>\n",
       "      <th>mean</th>\n",
       "      <th>median</th>\n",
       "      <th>std</th>\n",
       "    </tr>\n",
       "  </thead>\n",
       "  <tbody>\n",
       "    <tr>\n",
       "      <th>Temperatura_C</th>\n",
       "      <td>66.34</td>\n",
       "      <td>67.59</td>\n",
       "      <td>7.07</td>\n",
       "    </tr>\n",
       "    <tr>\n",
       "      <th>Vibracion_mms</th>\n",
       "      <td>2.35</td>\n",
       "      <td>2.36</td>\n",
       "      <td>0.46</td>\n",
       "    </tr>\n",
       "    <tr>\n",
       "      <th>Presion_bar</th>\n",
       "      <td>5.04</td>\n",
       "      <td>5.02</td>\n",
       "      <td>0.21</td>\n",
       "    </tr>\n",
       "    <tr>\n",
       "      <th>Humedad_%</th>\n",
       "      <td>48.61</td>\n",
       "      <td>47.90</td>\n",
       "      <td>5.02</td>\n",
       "    </tr>\n",
       "    <tr>\n",
       "      <th>Horas_funcionamiento</th>\n",
       "      <td>6952.37</td>\n",
       "      <td>6988.00</td>\n",
       "      <td>3864.25</td>\n",
       "    </tr>\n",
       "  </tbody>\n",
       "</table>\n",
       "</div>"
      ],
      "text/plain": [
       "                         mean   median      std\n",
       "Temperatura_C           66.34    67.59     7.07\n",
       "Vibracion_mms            2.35     2.36     0.46\n",
       "Presion_bar              5.04     5.02     0.21\n",
       "Humedad_%               48.61    47.90     5.02\n",
       "Horas_funcionamiento  6952.37  6988.00  3864.25"
      ]
     },
     "execution_count": 26,
     "metadata": {},
     "output_type": "execute_result"
    }
   ],
   "source": [
    "estadisticas = df_sin_outliers[variables_numericas].agg(['mean', 'median', 'std']).T\n",
    "estadisticas_redondeadas = estadisticas.round(2)\n",
    "estadisticas_redondeadas"
   ]
  },
  {
   "cell_type": "code",
   "execution_count": 27,
   "id": "a0543981",
   "metadata": {},
   "outputs": [
    {
     "data": {
      "text/html": [
       "<div>\n",
       "<style scoped>\n",
       "    .dataframe tbody tr th:only-of-type {\n",
       "        vertical-align: middle;\n",
       "    }\n",
       "\n",
       "    .dataframe tbody tr th {\n",
       "        vertical-align: top;\n",
       "    }\n",
       "\n",
       "    .dataframe thead th {\n",
       "        text-align: right;\n",
       "    }\n",
       "</style>\n",
       "<table border=\"1\" class=\"dataframe\">\n",
       "  <thead>\n",
       "    <tr style=\"text-align: right;\">\n",
       "      <th></th>\n",
       "      <th>ID_Medicion</th>\n",
       "      <th>Temperatura_C</th>\n",
       "      <th>Vibracion_mms</th>\n",
       "      <th>Presion_bar</th>\n",
       "      <th>Humedad_%</th>\n",
       "      <th>Horas_funcionamiento</th>\n",
       "      <th>Fallo_detectado</th>\n",
       "    </tr>\n",
       "  </thead>\n",
       "  <tbody>\n",
       "    <tr>\n",
       "      <th>ID_Medicion</th>\n",
       "      <td>1.00</td>\n",
       "      <td>0.35</td>\n",
       "      <td>0.64</td>\n",
       "      <td>0.01</td>\n",
       "      <td>-0.04</td>\n",
       "      <td>1.00</td>\n",
       "      <td>0.14</td>\n",
       "    </tr>\n",
       "    <tr>\n",
       "      <th>Temperatura_C</th>\n",
       "      <td>0.35</td>\n",
       "      <td>1.00</td>\n",
       "      <td>0.16</td>\n",
       "      <td>0.12</td>\n",
       "      <td>0.69</td>\n",
       "      <td>0.36</td>\n",
       "      <td>0.11</td>\n",
       "    </tr>\n",
       "    <tr>\n",
       "      <th>Vibracion_mms</th>\n",
       "      <td>0.64</td>\n",
       "      <td>0.16</td>\n",
       "      <td>1.00</td>\n",
       "      <td>-0.14</td>\n",
       "      <td>-0.17</td>\n",
       "      <td>0.64</td>\n",
       "      <td>0.18</td>\n",
       "    </tr>\n",
       "    <tr>\n",
       "      <th>Presion_bar</th>\n",
       "      <td>0.01</td>\n",
       "      <td>0.12</td>\n",
       "      <td>-0.14</td>\n",
       "      <td>1.00</td>\n",
       "      <td>0.60</td>\n",
       "      <td>0.02</td>\n",
       "      <td>0.02</td>\n",
       "    </tr>\n",
       "    <tr>\n",
       "      <th>Humedad_%</th>\n",
       "      <td>-0.04</td>\n",
       "      <td>0.69</td>\n",
       "      <td>-0.17</td>\n",
       "      <td>0.60</td>\n",
       "      <td>1.00</td>\n",
       "      <td>-0.02</td>\n",
       "      <td>0.05</td>\n",
       "    </tr>\n",
       "    <tr>\n",
       "      <th>Horas_funcionamiento</th>\n",
       "      <td>1.00</td>\n",
       "      <td>0.36</td>\n",
       "      <td>0.64</td>\n",
       "      <td>0.02</td>\n",
       "      <td>-0.02</td>\n",
       "      <td>1.00</td>\n",
       "      <td>0.14</td>\n",
       "    </tr>\n",
       "    <tr>\n",
       "      <th>Fallo_detectado</th>\n",
       "      <td>0.14</td>\n",
       "      <td>0.11</td>\n",
       "      <td>0.18</td>\n",
       "      <td>0.02</td>\n",
       "      <td>0.05</td>\n",
       "      <td>0.14</td>\n",
       "      <td>1.00</td>\n",
       "    </tr>\n",
       "  </tbody>\n",
       "</table>\n",
       "</div>"
      ],
      "text/plain": [
       "                      ID_Medicion  Temperatura_C  Vibracion_mms  Presion_bar  Humedad_%  Horas_funcionamiento  Fallo_detectado\n",
       "ID_Medicion                  1.00           0.35           0.64         0.01      -0.04                  1.00             0.14\n",
       "Temperatura_C                0.35           1.00           0.16         0.12       0.69                  0.36             0.11\n",
       "Vibracion_mms                0.64           0.16           1.00        -0.14      -0.17                  0.64             0.18\n",
       "Presion_bar                  0.01           0.12          -0.14         1.00       0.60                  0.02             0.02\n",
       "Humedad_%                   -0.04           0.69          -0.17         0.60       1.00                 -0.02             0.05\n",
       "Horas_funcionamiento         1.00           0.36           0.64         0.02      -0.02                  1.00             0.14\n",
       "Fallo_detectado              0.14           0.11           0.18         0.02       0.05                  0.14             1.00"
      ]
     },
     "execution_count": 27,
     "metadata": {},
     "output_type": "execute_result"
    }
   ],
   "source": [
    "matriz_correlacion = df_sin_outliers.corr(numeric_only=True)\n",
    "matriz_correlacion.round(2)\n"
   ]
  },
  {
   "cell_type": "code",
   "execution_count": 28,
   "id": "7a5c1837",
   "metadata": {},
   "outputs": [
    {
     "data": {
      "image/png": "[encoded data removed]",
      "text/plain": [
       "<Figure size 1000x600 with 2 Axes>"
      ]
     },
     "metadata": {},
     "output_type": "display_data"
    }
   ],
   "source": [
    "plt.figure(figsize=(10, 6))\n",
    "sns.heatmap(matriz_correlacion, annot=True, cmap='coolwarm', fmt=\".2f\", square=True)\n",
    "plt.title(\"Matriz de Correlación entre Variables\")\n",
    "plt.savefig(\"grafico_fallo_temp.png\", bbox_inches='tight', dpi=300)\n",
    "plt.show()"
   ]
  },
  {
   "cell_type": "markdown",
   "id": "94ac7049",
   "metadata": {},
   "source": [
    "IDENTIFICACION DE CORRELACIONES ENTRE VARIABLES \n",
    "\n",
    "1. Temperatura_C y Humedad_% -> 0.69 = Es la correlacion positiva mas fuerte que refleja la matriz.\n",
    "2. Horas_funcionamiento y Vibracion_mms -> 0.64 = Correlacion fuerte positiva. \n",
    "3. Presion_bar y Humedad_% -> 0.60 = Correlacion fuerte moderada.\n",
    "4. Temperatura_C y Horas_funcionamiento -> 0.36 = Correlacion moderada.\n",
    "5. Vibracion_mms y Humedad_% -> (−0.17) = Tienen correlacion negativa, aunque no muy fuerte.\n",
    "6. Presion_bar y Vibracion_mms: −0.14 = Tienen una relacion inversa que no es significativa."
   ]
  },
  {
   "cell_type": "markdown",
   "id": "f0ce0b8f",
   "metadata": {},
   "source": [
    "EJERCICIO 4 \n",
    "\n",
    "IMPLEMENTACION DE 3 ALGORITMOS DIFERENTES DE CLASIFICACION PARA PREDECIR EL FALLO (Fallo_detectado)\n",
    "1. Regresion Logistica\n",
    "2. Arbol de decision\n",
    "3. Bosque aleatorio (Random Forest)"
   ]
  },
  {
   "cell_type": "code",
   "execution_count": 29,
   "id": "b6eb9dcc",
   "metadata": {},
   "outputs": [],
   "source": [
    "from sklearn.model_selection import train_test_split\n",
    "\n",
    "X = df_sin_outliers[['Temperatura_C', 'Vibracion_mms', 'Presion_bar', 'Humedad_%', 'Horas_funcionamiento']]\n",
    "y = df_sin_outliers['Fallo_detectado']\n",
    "\n",
    "X_train, X_test, y_train, y_test = train_test_split(X, y, test_size=0.2, random_state=42, stratify=y)\n"
   ]
  },
  {
   "cell_type": "code",
   "execution_count": 30,
   "id": "a634bc5e",
   "metadata": {},
   "outputs": [],
   "source": [
    "from sklearn.preprocessing import StandardScaler\n",
    "\n",
    "escalador = StandardScaler()\n",
    "X_train_scaled = escalador.fit_transform(X_train)\n",
    "X_test_scaled = escalador.transform(X_test)"
   ]
  },
  {
   "cell_type": "code",
   "execution_count": 31,
   "id": "9a4ed939",
   "metadata": {},
   "outputs": [],
   "source": [
    "from sklearn.metrics import accuracy_score, recall_score, f1_score\n",
    "\n",
    "def evaluar_modelo(nombre, modelo, X_train, X_test, y_train, y_test):\n",
    "    modelo.fit(X_train, y_train)\n",
    "    y_pred = modelo.predict(X_test)\n",
    "    \n",
    "    acc = accuracy_score(y_test, y_pred)\n",
    "    recall = recall_score(y_test, y_pred)\n",
    "    f1 = f1_score(y_test, y_pred)\n",
    "\n",
    "    print(f\"📊 {nombre}\")\n",
    "    print(f\"Accuracy: {acc:.3f}\")\n",
    "    print(f\"Recall:   {recall:.3f}\")\n",
    "    print(f\"F1-score: {f1:.3f}\\n\")"
   ]
  },
  {
   "cell_type": "markdown",
   "id": "7e6d1b31",
   "metadata": {},
   "source": [
    "1. REGRESION LOGISTICA "
   ]
  },
  {
   "cell_type": "code",
   "execution_count": 32,
   "id": "87a9d185",
   "metadata": {},
   "outputs": [
    {
     "name": "stdout",
     "output_type": "stream",
     "text": [
      "📊 Regresión Logística\n",
      "Accuracy: 0.994\n",
      "Recall:   0.250\n",
      "F1-score: 0.400\n",
      "\n"
     ]
    }
   ],
   "source": [
    "from sklearn.linear_model import LogisticRegression\n",
    "\n",
    "modelo_log = LogisticRegression()\n",
    "evaluar_modelo(\"Regresión Logística\", modelo_log, X_train_scaled, X_test_scaled, y_train, y_test)"
   ]
  },
  {
   "cell_type": "markdown",
   "id": "c1aecb78",
   "metadata": {},
   "source": [
    "2. ARBOL DE DECISION "
   ]
  },
  {
   "cell_type": "code",
   "execution_count": 33,
   "id": "0921a137",
   "metadata": {},
   "outputs": [
    {
     "name": "stdout",
     "output_type": "stream",
     "text": [
      "📊 Árbol de Decisión\n",
      "Accuracy: 1.000\n",
      "Recall:   1.000\n",
      "F1-score: 1.000\n",
      "\n"
     ]
    }
   ],
   "source": [
    "from sklearn.tree import DecisionTreeClassifier\n",
    "\n",
    "modelo_tree = DecisionTreeClassifier(random_state=42)\n",
    "evaluar_modelo(\"Árbol de Decisión\", modelo_tree, X_train, X_test, y_train, y_test)"
   ]
  },
  {
   "cell_type": "markdown",
   "id": "def680e2",
   "metadata": {},
   "source": [
    "3. BOSQUE ALEATORIO (RANDOM FOREST)"
   ]
  },
  {
   "cell_type": "code",
   "execution_count": 34,
   "id": "c546f224",
   "metadata": {},
   "outputs": [
    {
     "name": "stdout",
     "output_type": "stream",
     "text": [
      "📊 Random Forest\n",
      "Accuracy: 1.000\n",
      "Recall:   1.000\n",
      "F1-score: 1.000\n",
      "\n"
     ]
    }
   ],
   "source": [
    "from sklearn.ensemble import RandomForestClassifier\n",
    "\n",
    "modelo_rf = RandomForestClassifier(random_state=42)\n",
    "evaluar_modelo(\"Random Forest\", modelo_rf, X_train, X_test, y_train, y_test)"
   ]
  },
  {
   "cell_type": "markdown",
   "id": "e8d9d2ac",
   "metadata": {},
   "source": [
    "COMPARACION DEL RENDIMIENTO DE LOS 3 MODELOS \n",
    "\n",
    "Para el modelado predictivo del fallo identificado como Fallo_detectado, se implementaron tres algoritmos de clasificación: regresión logística, árbol de decisión y Random Forest. A continuación, se presentan los resultados obtenidos para cada modelo utilizando las métricas de precisión (accuracy), recall y F1-score:\n",
    "\n",
    "Modelo\t                       Accuracy\t    Recall\t   F1-score\n",
    "Regresión logística\t           0.994\t    0.250\t   0.400\n",
    "Árbol de decisión\t           1.000\t    1.000\t   1.000\n",
    "Random Forest\t               1.000\t    1.000\t   1.000\n",
    "\n",
    "1. Accuracy (Precisión general)\n",
    "Todos los modelos tienen una precisión muy alta (99.4% a 100%). En contextos como este, donde los fallos no ocurren tan seguido como los casos normales, la precisión total (accuracy) puede ser un poco engañosa. Esto se debe a que un modelo puede parecer muy acertado simplemente porque acierta muchas veces al decir que no hay fallo, que es lo que ocurre la mayoría del tiempo. Pero lo importante aquí es que el modelo sea capaz de detectar los pocos fallos que sí ocurren.\n",
    "\n",
    "2. Recall ( se refiere a la capacidad para detectar fallos)\n",
    "- Árbol de decisión y Random Forest logran un recall perfecto (1.000), es decir, detectan todos los fallos reales.\n",
    "- La regresión logística tiene un recall muy bajo (0.250), lo que quiere decir, que solo detecta 1 de cada 4 fallos reales, lo cual es inaceptable en un sistema de mantenimiento predictivo, donde lo más importante es no dejar pasar fallos.\n",
    "\n",
    "3. F1-score (es el equilibrio entre precisión y recall)\n",
    "- Encontramos que Árbol de decisión y Random Forest tienen un F1-score perfecto (1.000).\n",
    "- La regresión logística tiene un F1-score muy bajo (0.400), indicando un mal equilibrio entre detectar fallos y evitar falsos positivos.\n",
    "\n",
    "De acuerdo a lo analizado anteriormente, se puede decir que tanto el Árbol de decisión como el Random Forest muestran un rendimiento perfecto en todas las métricas: 100% de precisión, 100% de recall y 100% de F1-score. Ambos son altamente adecuados para esta tarea.\n",
    "\n",
    "Sin embargo, entre los dos, el Random Forest suele ser más robusto y generalizable que un solo árbol de decisión, ya que es menos propenso al sobreajuste y usa varios árboles en lugar de solo uno, y toma una especie de promedio entre ellos. Esto hace que el modelo sea más estable y no cambie mucho si los datos varían un poco. \n",
    "\n",
    "Por lo tanto, Random Forest o Bosque aleatorio es el modelo mas adecuado debido a su alto rendimiento, robustez y mejor capacidad de generalizacion.\n"
   ]
  },
  {
   "cell_type": "code",
   "execution_count": 35,
   "id": "ac146397",
   "metadata": {},
   "outputs": [
    {
     "data": {
      "image/png": "[encoded data removed]",
      "text/plain": [
       "<Figure size 1000x600 with 1 Axes>"
      ]
     },
     "metadata": {},
     "output_type": "display_data"
    }
   ],
   "source": [
    "datos = {\n",
    "    'Modelo': ['Regresión Logística'] * 3 + ['Árbol de Decisión'] * 3 + ['Random Forest'] * 3,\n",
    "    'Métrica': ['Accuracy', 'Recall', 'F1-score'] * 3,\n",
    "    'Valor': [0.994, 0.250, 0.400, 1.000, 1.000, 1.000, 1.000, 1.000, 1.000]\n",
    "}\n",
    "\n",
    "df = pd.DataFrame(datos)\n",
    "\n",
    "# Estilo del gráfico\n",
    "plt.figure(figsize=(10, 6))\n",
    "sns.set(style='whitegrid')\n",
    "plot = sns.barplot(data=df, x='Modelo', y='Valor', hue='Métrica', palette='Set2')\n",
    "\n",
    "# Añadir etiquetas de valor encima de cada barra\n",
    "for container in plot.containers:\n",
    "    plot.bar_label(container, fmt='%.3f', padding=3, fontsize=9)\n",
    "\n",
    "# Estética\n",
    "plt.ylim(0, 1.1)\n",
    "plt.title('Comparación de métricas por modelo')\n",
    "plt.ylabel('Valor')\n",
    "plt.xlabel('Modelo')\n",
    "plt.legend(title='Métrica', loc='upper right')\n",
    "\n",
    "# Guardar imagen\n",
    "plt.tight_layout()\n",
    "plt.savefig('metricas_modelos.png', dpi=300, bbox_inches='tight')\n",
    "plt.show()"
   ]
  },
  {
   "cell_type": "code",
   "execution_count": 36,
   "id": "1196c2ee",
   "metadata": {},
   "outputs": [],
   "source": [
    "pred_log = modelo_log.predict(X_test_scaled)\n",
    "pred_arbol = modelo_tree.predict(X_test)\n",
    "pred_rf = modelo_rf.predict(X_test)\n",
    "\n",
    "nombre_columnas = list(X_train.columns)\n",
    "df_test_original = df_todos.loc[y_test.index]\n",
    "\n",
    "df_final = pd.DataFrame(X_test_scaled, columns=nombre_columnas)  # base: escalado\n",
    "df_final['Fallo_detectado'] = y_test.values\n",
    "df_final['Motor'] = df_test_original['Motor'].values\n",
    "\n",
    "df_final['Pred_LogReg'] = pred_log\n",
    "df_final['Pred_DecisionTree'] = pred_arbol\n",
    "df_final['Pred_RandomForest'] = pred_rf\n",
    "\n",
    "\n"
   ]
  },
  {
   "cell_type": "code",
   "execution_count": null,
   "id": "8b4fe8c1",
   "metadata": {},
   "outputs": [
    {
     "name": "stdout",
     "output_type": "stream",
     "text": [
      "c:\\Users\\Usuario\\OneDrive\\ESPAÑA\\INTELIGENCIA DE NEGOCIOS   VIU\\MASTER\\ASIGNATURAS\\9 TENDENCIAS DE AUTOMATIZACION EN EL ANALISIS ESTADISTICO jesus cigales canga clase 9\\ACTIVIDAD 1\\Borrador actividad\\datos_procesados_con_predicciones.csv\n"
     ]
    }
   ],
   "source": [
    "print(os.path.abspath('datos_procesados_con_predicciones.csv'))\n"
   ]
  },
  {
   "cell_type": "code",
   "execution_count": 37,
   "id": "ac80d027",
   "metadata": {},
   "outputs": [],
   "source": [
    "df = df_sin_outliers.copy()\n"
   ]
  },
  {
   "cell_type": "code",
   "execution_count": 38,
   "id": "7132d892",
   "metadata": {},
   "outputs": [],
   "source": [
    "columnas_a_redondear = ['Temperatura_C', 'Vibracion_mms', 'Presion_bar', 'Humedad_%', 'Horas_funcionamiento']\n",
    "\n",
    "df[columnas_a_redondear] = df[columnas_a_redondear].round(2)"
   ]
  },
  {
   "cell_type": "code",
   "execution_count": 39,
   "id": "3d9888ec",
   "metadata": {},
   "outputs": [],
   "source": [
    "df.to_csv(\"datos_limpios_para_powerbi.csv\", index=False)"
   ]
  },
  {
   "cell_type": "code",
   "execution_count": 40,
   "id": "6c65febb",
   "metadata": {},
   "outputs": [],
   "source": [
    "df.to_csv(\"datos_limpios_para_powerbi.csv\", index=False, sep=';', decimal=',')"
   ]
  },
  {
   "cell_type": "markdown",
   "id": "9e44ec0e",
   "metadata": {},
   "source": [
    "INFORME FINAL \n",
    "\n",
    "A lo largo del proceso de tratamiento, exploración y modelado de los datos sensoriales de motores eléctricos, se obtuvieron los siguientes hallazgos clave:\n",
    "\n",
    "- No se encontraron valores nulos ni registros incompletos, lo cual facilitó un análisis limpio y confiable.\n",
    "- Se eliminaron 139 registros (5,6% del total) por contener valores atípicos, usando el método IQR. Esta depuración permitió mejorar la calidad del dataset final.\n",
    "- Se aplicó una estandarización de variables, especialmente necesaria para modelos sensibles a la escala como la regresión logística y SVM.\n",
    "- Se observó una relación positiva entre temperatura y probabilidad de fallo. A mayor temperatura, mayor incidencia de fallos detectados.\n",
    "- Entre las variables sensoriales, se identificaron correlaciones fuertes como:\n",
    "   - Temperatura_C <-> Humedad_% (0.69) \n",
    "   - Horas_funcionamiento <> Vibracion_mms (0.64)\n",
    "   - Presion_bar <> Humedad_% (0.60)\n",
    "- Se analizaron los registros agrupados por motor, y se observaron diferencias importantes en la incidencia de los fallos: \n",
    "\n",
    "Motor\t      Horas de funcionamiento\tFallos detectados\n",
    "Motor 1\t      2.955.611\t                9\n",
    "Motor 2\t      3.363.266\t                0\n",
    "Motor 3\t      3.413.282\t                6\n",
    "Motor 4\t      3.321.021\t                4\n",
    "Motor 5\t      3.361.356\t                0\n",
    "\n",
    "El motor 1 fue el que más fallos presentó (9 fallos en menos de 3 millones de horas), a pesar de ser el que menos tiempo estuvo en funcionamiento. \n",
    "\n",
    "Esto sugiere que el Motor 1 podría estar expuesto a condiciones más severas, defectos mecánicos, o que su mantenimiento ha sido insuficiente o inadecuado.\n",
    "\n",
    "En contraste, los Motores 2 y 5, con más de 3.3 millones de horas cada uno, no registraron ningún fallo.\n",
    "\n",
    "Esta diferencia refuerza la importancia de no evaluar únicamente la cantidad de horas de funcionamiento, sino también otras variables sensoriales como la vibración, temperatura y presión interna, que podrían estar afectando al Motor 1 de forma desproporcionada.\n",
    "\n",
    "\n",
    "EVALUACION DE LOS MODELOS PREDICTIVOS \n",
    "\n",
    "Se entrenaron y evaluaron tres modelos de clasificación para predecir fallos:\n",
    "\n",
    "Modelo\t                    Accuracy\tRecall\tF1-score\n",
    "Regresión logística\t        0.994\t    0.250\t0.400\n",
    "Árbol de decisión\t        1.000\t    1.000\t1.000\n",
    "Random Forest\t            1.000\t    1.000\t1.000\n",
    "\n",
    "Si bien los tres modelos tienen una precisión alta, los que realmente destacan son el Árbol de decisión y el Random Forest, ya que detectan todos los fallos sin errores.\n",
    "\n",
    "La regresión logística tiene un recall muy bajo, lo cual lo hace inadecuado para este tipo de tareas donde detectar fallos es prioritario.\n",
    "\n",
    "\n",
    "MODELO SELECCIONADO: Random Forest \n",
    "\n",
    "Aunque tanto el Árbol de Decisión como el Random Forest obtuvieron un rendimiento perfecto en este análisis, se selecciona el Random Forest como el modelo más adecuado, debido a:\n",
    "\n",
    "   - Su robustez frente al sobreajuste.\n",
    "   - Su capacidad para generalizar mejor ante nuevos datos.\n",
    "   - Su arquitectura basada en múltiples árboles que mejora la estabilidad de las predicciones.\n",
    "\n",
    "\n",
    "RECOMENDACIONES PARA MANTENIMIENTO PREVENTIVO \n",
    "\n",
    "1. Monitorear de cerca la temperatura y vibración de los motores, ya que están fuertemente asociadas a fallos.\n",
    "2. Aplicar mantenimiento preventivo en motores que acumulen muchas horas de funcionamiento, especialmente si presentan alta vibración.\n",
    "3. Implementar el modelo Random Forest en el sistema de monitoreo en tiempo real, para anticipar fallos antes de que ocurran.\n",
    "4. Reentrenar el modelo periódicamente con nuevos datos para asegurar su precisión y adaptabilidad.\n",
    "5. Se recomienda realizar una revisión exhaustiva del Motor 1, ya que su tasa de fallos por hora es anormalmente alta. Esto podría implicar un problema específico en su entorno, configuración o desgaste prematuro. Además, se sugiere usar este hallazgo para entrenar alertas específicas por unidad en el sistema de mantenimiento predictivo.\n",
    "\n",
    "\n",
    "\n",
    "\n",
    "\n"
   ]
  }
 ],
 "metadata": {
  "kernelspec": {
   "display_name": "base",
   "language": "python",
   "name": "python3"
  },
  "language_info": {
   "codemirror_mode": {
    "name": "ipython",
    "version": 3
   },
   "file_extension": ".py",
   "mimetype": "text/x-python",
   "name": "python",
   "nbconvert_exporter": "python",
   "pygments_lexer": "ipython3",
   "version": "3.12.7"
  }
 },
 "nbformat": 4,
 "nbformat_minor": 5
}
